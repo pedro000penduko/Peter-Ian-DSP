{
 "cells": [
  {
   "cell_type": "code",
   "execution_count": 13,
   "id": "a9c2138d-b8db-4600-b8b4-30b81817914a",
   "metadata": {
    "tags": []
   },
   "outputs": [
    {
     "name": "stdin",
     "output_type": "stream",
     "text": [
      "Enter a string:  fdjskgjldfgljg895843\n"
     ]
    },
    {
     "name": "stdout",
     "output_type": "stream",
     "text": [
      "OUTPUT: 348598GJLGFDLJGKSJDF\n",
      "CHARACTERS: 20\n"
     ]
    }
   ],
   "source": [
    "# Get user input\n",
    "input_string = input(\"Enter a string: \")\n",
    "\n",
    "# Reverse the input string\n",
    "reversed_string = input_string[::-1]\n",
    "\n",
    "# Convert the reversed string to all caps\n",
    "uppercase_reversed_string = reversed_string.upper()\n",
    "\n",
    "# Calculate the string count\n",
    "string_count = len(input_string)\n",
    "\n",
    "# Display the results\n",
    "print(\"OUTPUT:\", uppercase_reversed_string)\n",
    "print(\"CHARACTERS:\", string_count)\n"
   ]
  },
  {
   "cell_type": "code",
   "execution_count": null,
   "id": "b361373f-0929-49fe-8792-8516fc43bcf1",
   "metadata": {},
   "outputs": [],
   "source": []
  }
 ],
 "metadata": {
  "kernelspec": {
   "display_name": "Python 3 (ipykernel)",
   "language": "python",
   "name": "python3"
  },
  "language_info": {
   "codemirror_mode": {
    "name": "ipython",
    "version": 3
   },
   "file_extension": ".py",
   "mimetype": "text/x-python",
   "name": "python",
   "nbconvert_exporter": "python",
   "pygments_lexer": "ipython3",
   "version": "3.11.4"
  }
 },
 "nbformat": 4,
 "nbformat_minor": 5
}
