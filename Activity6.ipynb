{
 "cells": [
  {
   "cell_type": "code",
   "execution_count": 2,
   "id": "920b9493-f15d-4f0e-bca6-01c2220d53c6",
   "metadata": {
    "tags": []
   },
   "outputs": [
    {
     "ename": "NameError",
     "evalue": "name 'np' is not defined",
     "output_type": "error",
     "traceback": [
      "\u001b[1;31m---------------------------------------------------------------------------\u001b[0m",
      "\u001b[1;31mNameError\u001b[0m                                 Traceback (most recent call last)",
      "Cell \u001b[1;32mIn[2], line 9\u001b[0m\n\u001b[0;32m      4\u001b[0m     get_ipython()\u001b[38;5;241m.\u001b[39msystem(\u001b[38;5;124m'\u001b[39m\u001b[38;5;124mwget https://github.com/AllenDowney/ThinkDSP/raw/master/code/thinkdsp.py\u001b[39m\u001b[38;5;124m'\u001b[39m)\n\u001b[0;32m      7\u001b[0m \u001b[38;5;28;01mfrom\u001b[39;00m \u001b[38;5;21;01mthinkdsp\u001b[39;00m \u001b[38;5;28;01mimport\u001b[39;00m Noise\n\u001b[1;32m----> 9\u001b[0m \u001b[38;5;28;01mclass\u001b[39;00m \u001b[38;5;21;01mUncorrelatedPoissonNoise\u001b[39;00m(Noise):\n\u001b[0;32m     12\u001b[0m     \u001b[38;5;28;01mdef\u001b[39;00m \u001b[38;5;21mevaluate\u001b[39m(\u001b[38;5;28mself\u001b[39m, ts):\n\u001b[0;32m     14\u001b[0m         ys \u001b[38;5;241m=\u001b[39m np\u001b[38;5;241m.\u001b[39mrandom\u001b[38;5;241m.\u001b[39mpoisson(\u001b[38;5;28mself\u001b[39m\u001b[38;5;241m.\u001b[39mamp, \u001b[38;5;28mlen\u001b[39m(ts))\n",
      "Cell \u001b[1;32mIn[2], line 26\u001b[0m, in \u001b[0;36mUncorrelatedPoissonNoise\u001b[1;34m()\u001b[0m\n\u001b[0;32m     22\u001b[0m duration \u001b[38;5;241m=\u001b[39m \u001b[38;5;241m1\u001b[39m\n\u001b[0;32m     25\u001b[0m signal \u001b[38;5;241m=\u001b[39m UncorrelatedPoissonNoise(amp\u001b[38;5;241m=\u001b[39mamp)\n\u001b[1;32m---> 26\u001b[0m wave \u001b[38;5;241m=\u001b[39m signal\u001b[38;5;241m.\u001b[39mmake_wave(duration\u001b[38;5;241m=\u001b[39mduration, framerate\u001b[38;5;241m=\u001b[39mframerate)\n\u001b[0;32m     27\u001b[0m wave\u001b[38;5;241m.\u001b[39mmake_audio()\n",
      "File \u001b[1;32m~\\ThinkDSP-master\\code\\thinkdsp.py:1249\u001b[0m, in \u001b[0;36mSignal.make_wave\u001b[1;34m(self, duration, start, framerate)\u001b[0m\n\u001b[0;32m   1247\u001b[0m n \u001b[38;5;241m=\u001b[39m \u001b[38;5;28mround\u001b[39m(duration \u001b[38;5;241m*\u001b[39m framerate)\n\u001b[0;32m   1248\u001b[0m ts \u001b[38;5;241m=\u001b[39m start \u001b[38;5;241m+\u001b[39m np\u001b[38;5;241m.\u001b[39marange(n) \u001b[38;5;241m/\u001b[39m framerate\n\u001b[1;32m-> 1249\u001b[0m ys \u001b[38;5;241m=\u001b[39m \u001b[38;5;28mself\u001b[39m\u001b[38;5;241m.\u001b[39mevaluate(ts)\n\u001b[0;32m   1250\u001b[0m \u001b[38;5;28;01mreturn\u001b[39;00m Wave(ys, ts, framerate\u001b[38;5;241m=\u001b[39mframerate)\n",
      "Cell \u001b[1;32mIn[1], line 14\u001b[0m, in \u001b[0;36mUncorrelatedPoissonNoise.evaluate\u001b[1;34m(self, ts)\u001b[0m\n\u001b[0;32m     12\u001b[0m \u001b[38;5;28;01mdef\u001b[39;00m \u001b[38;5;21mevaluate\u001b[39m(\u001b[38;5;28mself\u001b[39m, ts):\n\u001b[1;32m---> 14\u001b[0m     ys \u001b[38;5;241m=\u001b[39m np\u001b[38;5;241m.\u001b[39mrandom\u001b[38;5;241m.\u001b[39mpoisson(\u001b[38;5;28mself\u001b[39m\u001b[38;5;241m.\u001b[39mamp, \u001b[38;5;28mlen\u001b[39m(ts))\n\u001b[0;32m     15\u001b[0m     \u001b[38;5;28;01mreturn\u001b[39;00m ys\n",
      "\u001b[1;31mNameError\u001b[0m: name 'np' is not defined"
     ]
    }
   ],
   "source": [
    "import os\n",
    "\n",
    "if not os.path.exists('thinkdsp.py'):\n",
    "    !wget https://github.com/AllenDowney/ThinkDSP/raw/master/code/thinkdsp.py\n",
    "    \n",
    "\n",
    "from thinkdsp import Noise\n",
    "\n",
    "class UncorrelatedPoissonNoise(Noise):\n",
    "   \n",
    "\n",
    "    def evaluate(self, ts):\n",
    "       \n",
    "        ys = np.random.poisson(self.amp, len(ts))\n",
    "        return ys\n",
    "    \n",
    "\n",
    "    amp = 0.001\n",
    "\n",
    "    framerate = 10000\n",
    "\n",
    "    duration = 1\n",
    "\n",
    "\n",
    "    signal = UncorrelatedPoissonNoise(amp=amp)\n",
    "    wave = signal.make_wave(duration=duration, framerate=framerate)\n",
    "    wave.make_audio()"
   ]
  },
  {
   "cell_type": "code",
   "execution_count": null,
   "id": "49a97dc4-a11a-4cea-aaf8-8b1d1ccb2e37",
   "metadata": {},
   "outputs": [],
   "source": []
  }
 ],
 "metadata": {
  "kernelspec": {
   "display_name": "Python 3 (ipykernel)",
   "language": "python",
   "name": "python3"
  },
  "language_info": {
   "codemirror_mode": {
    "name": "ipython",
    "version": 3
   },
   "file_extension": ".py",
   "mimetype": "text/x-python",
   "name": "python",
   "nbconvert_exporter": "python",
   "pygments_lexer": "ipython3",
   "version": "3.11.4"
  }
 },
 "nbformat": 4,
 "nbformat_minor": 5
}
